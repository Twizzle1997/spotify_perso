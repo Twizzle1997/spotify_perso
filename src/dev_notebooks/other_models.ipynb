{
 "cells": [
  {
   "cell_type": "code",
   "execution_count": null,
   "metadata": {},
   "outputs": [],
   "source": [
    "import credentials as cr\n",
    "import SQL_requests as rq\n",
    "import pandas as pd\n",
    "import warnings\n",
    "from db_connect import Db_connect\n",
    "from recommendation_system import Recommendation\n",
    "from sklearn.metrics.pairwise import cosine_similarity\n",
    "\n",
    "\n",
    "%load_ext autoreload\n",
    "%autoreload 2"
   ]
  },
  {
   "cell_type": "code",
   "execution_count": null,
   "metadata": {},
   "outputs": [],
   "source": [
    "# redirect_uri = 'http://localhost/'\n",
    "data_path = cr.DATA_PATH\n",
    "\n",
    "db = Db_connect()\n",
    "rc = Recommendation()\n",
    "\n",
    "warnings.filterwarnings(\"ignore\")"
   ]
  },
  {
   "cell_type": "code",
   "execution_count": null,
   "metadata": {},
   "outputs": [],
   "source": [
    "db.init_connection()\n",
    "top_30_titles = pd.read_sql_query(rq.SELECT_PLAYLIST_TITLES + \"'6AsIwsN6mH7dQSChLsqSlY'\", db.connector).set_index('id')\n",
    "track_titles = pd.read_sql_query(rq.SELECT_TRACKS_TITLES, db.connector).set_index('id')\n",
    "track_features = pd.read_sql_query(rq.SELECT_TRACKS_FEATURES, db.connector).set_index('id')\n",
    "db.close_connection()"
   ]
  },
  {
   "cell_type": "markdown",
   "metadata": {},
   "source": [
    "## kNearestNeighbors (unsupervised)"
   ]
  },
  {
   "cell_type": "markdown",
   "metadata": {},
   "source": [
    "### Without data processing"
   ]
  },
  {
   "cell_type": "code",
   "execution_count": null,
   "metadata": {},
   "outputs": [],
   "source": [
    "playlist, nonplaylist = rc.generate_playlist_nonplaylist(track_features, top_30_titles)\n",
    "recommendation, recommendation_features = rc.get_recommendations(playlist, nonplaylist, track_features, track_titles)\n",
    "rc.visualize_cover(recommendation)\n",
    "display(recommendation)"
   ]
  },
  {
   "cell_type": "markdown",
   "metadata": {},
   "source": [
    "### With data processing"
   ]
  },
  {
   "cell_type": "code",
   "execution_count": null,
   "metadata": {},
   "outputs": [],
   "source": [
    "track_features_processed = rc.process_data(track_features)\n",
    "display(track_features_processed.head())\n",
    "\n",
    "playlist, nonplaylist = rc.generate_playlist_nonplaylist(track_features_processed, top_30_titles)\n",
    "playlist_sum = playlist.sum(axis = 0)\n",
    "\n",
    "recommendation, recommendation_features = rc.get_recommendations_processed(playlist, nonplaylist, track_features_processed, track_titles)\n",
    "\n",
    "rc.visualize_cover(recommendation)\n",
    "\n",
    "display(recommendation)\n"
   ]
  },
  {
   "cell_type": "code",
   "execution_count": null,
   "metadata": {},
   "outputs": [],
   "source": [
    "cosine = rc.get_cosine_similarity(playlist, recommendation_features, track_titles)\n",
    "display(cosine)\n",
    "print(\"MEAN COSINE SIMILARITY : \", cosine.sim_mean.mean())"
   ]
  },
  {
   "cell_type": "markdown",
   "metadata": {},
   "source": [
    "## Cosine Similarity"
   ]
  },
  {
   "cell_type": "code",
   "execution_count": null,
   "metadata": {},
   "outputs": [],
   "source": [
    "track_features_processed = rc.process_data(track_features)\n",
    "\n",
    "playlist, nonplaylist = rc.generate_playlist_nonplaylist(track_features_processed, top_30_titles)\n",
    "playlist_sum = playlist.sum(axis = 0)\n",
    "\n",
    "nonplaylist_copy = nonplaylist.copy()\n",
    "\n",
    "nonplaylist_copy['sim'] = cosine_similarity(nonplaylist.values, playlist_sum.values.reshape(1, -1))[:,0]\n",
    "\n",
    "recommendation = nonplaylist_copy.sort_values('sim',ascending = False).head(10)\n",
    "recommendation = recommendation.merge(track_titles, left_index=True, right_index=True)\n",
    "\n",
    "rc.visualize_cover(recommendation)\n",
    "\n",
    "recommendation.head()"
   ]
  }
 ],
 "metadata": {
  "language_info": {
   "name": "python"
  },
  "orig_nbformat": 4
 },
 "nbformat": 4,
 "nbformat_minor": 2
}
