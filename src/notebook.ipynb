{
 "cells": [
  {
   "cell_type": "code",
   "execution_count": 10,
   "metadata": {},
   "outputs": [
    {
     "name": "stdout",
     "output_type": "stream",
     "text": [
      "The autoreload extension is already loaded. To reload it, use:\n",
      "  %reload_ext autoreload\n"
     ]
    }
   ],
   "source": [
    "import spotipy\n",
    "import credentials as cr\n",
    "import pandas as pd\n",
    "import ast\n",
    "from spotipy.oauth2 import SpotifyClientCredentials\n",
    "\n",
    "%load_ext autoreload\n",
    "%autoreload 2"
   ]
  },
  {
   "cell_type": "markdown",
   "metadata": {},
   "source": [
    "## Application parameters"
   ]
  },
  {
   "cell_type": "code",
   "execution_count": 2,
   "metadata": {},
   "outputs": [],
   "source": [
    "# redirect_uri = 'http://localhost/'\n",
    "client_id = cr.CLIENT_ID\n",
    "client_secret = cr.CLIENT_SECRET\n",
    "auth = cr.TOKEN\n",
    "data_path = cr.DATA_PATH\n",
    "\n",
    "client_credentials_manager = SpotifyClientCredentials(client_id=client_id, client_secret=client_secret)\n",
    "\n",
    "sp = spotipy.Spotify(client_credentials_manager=client_credentials_manager, auth=auth)"
   ]
  },
  {
   "cell_type": "code",
   "execution_count": 3,
   "metadata": {},
   "outputs": [],
   "source": [
    "# def get_features(track_id):\n",
    "\n",
    "#     return sp.audio_features(track_id)"
   ]
  },
  {
   "cell_type": "code",
   "execution_count": 4,
   "metadata": {},
   "outputs": [],
   "source": [
    "def get_user_playlists():\n",
    "    \"\"\"\n",
    "    Get the current user's spotify playlists with a limit at 50.\n",
    "    ****\n",
    "    returns: pandas.DataFrame playlists\n",
    "    \"\"\"\n",
    "\n",
    "    # Get json playlists using spotipy api\n",
    "    playlistsJson = sp.current_user_playlists(limit=50, offset=0)\n",
    "\n",
    "    playlists = {'id': [], 'name': [], 'total_tracks': [], 'owner_id': [], 'href': []}\n",
    "    \n",
    "    for i, playlist in enumerate(playlistsJson['items']):\n",
    "        playlists['id'].append(playlist['id'])\n",
    "        playlists['name'].append(playlist['name'])\n",
    "        playlists['total_tracks'].append(playlist['tracks']['total'])\n",
    "        playlists['owner_id'].append(playlist['owner']['id'])\n",
    "        playlists['href'].append(playlist['href'])\n",
    "\n",
    "    print('Found playlists : ', i+1)\n",
    "\n",
    "    return pd.DataFrame.from_dict(playlists).set_index('id')"
   ]
  },
  {
   "cell_type": "code",
   "execution_count": 5,
   "metadata": {},
   "outputs": [],
   "source": [
    "def get_playlist_tracks(playlist_id):\n",
    "    \"\"\"\n",
    "    Get the selected playlist's tracks using its id with a maximum of 100.\n",
    "    ****\n",
    "    returns: list of tracks of the playlist\n",
    "    \"\"\"\n",
    "\n",
    "    playlistJson = sp.playlist(playlist_id)\n",
    "\n",
    "    # Create the list to initialize the dataframe\n",
    "    tracks_list = []\n",
    "\n",
    "    for i, track in enumerate(playlistJson['tracks']['items']):\n",
    "        tracks_list.append(track['track']['id'])\n",
    "\n",
    "    # print('Found tracks : ', i+1)\n",
    "\n",
    "    return tracks_list\n"
   ]
  },
  {
   "cell_type": "code",
   "execution_count": 6,
   "metadata": {},
   "outputs": [],
   "source": [
    "def set_tracks_to_playlists():\n",
    "    \"\"\"\n",
    "    Set the 100 first tracks ids to the user's playlists\n",
    "    ****\n",
    "    returns: dataframe with playlists and related tracks ids\n",
    "    \"\"\"\n",
    "    playlists = get_user_playlists()\n",
    "\n",
    "    playlists_tracks = {'id': [], 'tracks': []}\n",
    "\n",
    "    for i, playlist in playlists.T.iteritems():\n",
    "        playlists_tracks['id'].append(playlist.name)\n",
    "        playlists_tracks['tracks'].append(get_playlist_tracks(playlist.name))\n",
    "\n",
    "\n",
    "    df_to_merge = pd.DataFrame.from_dict(playlists_tracks).set_index('id')\n",
    "\n",
    "    return playlists.merge(df_to_merge, left_index=True, right_index=True)\n"
   ]
  },
  {
   "cell_type": "code",
   "execution_count": 28,
   "metadata": {},
   "outputs": [],
   "source": [
    "def get_features(track_id):\n",
    "    \"\"\"\n",
    "    Get the selected track's features.\n",
    "    ****\n",
    "    returns: dict of track features\"\"\"\n",
    "\n",
    "    track_features = sp.audio_features(track_id)    \n",
    "    features = {'id', 'danceability', 'energy', 'key', 'loudness', 'mode', 'speechiness', 'acousticness', 'instrumentalness', 'liveness', 'valence', 'tempo', 'duration_ms', 'time_signature'}\n",
    "\n",
    "\n",
    "    for _, feature in enumerate(track_features):\n",
    "        features['id'].append(feature['id'])\n",
    "        features['danceability'].append(feature['danceability'])\n",
    "        features['energy'].append(feature['energy'])\n",
    "        features['key'].append(feature['key'])\n",
    "        features['loudness'].append(feature['loudness'])\n",
    "        features['mode'].append(feature['mode'])\n",
    "        features['speechiness'].append(feature['speechiness'])\n",
    "        features['acousticness'].append(feature['acousticness'])\n",
    "        features['instrumentalness'].append(feature['instrumentalness'])\n",
    "        features['liveness'].append(feature['liveness'])\n",
    "        features['valence'].append(feature['valence'])\n",
    "        features['tempo'].append(feature['tempo'])\n",
    "        features['duration_ms'].append(feature['duration_ms'])\n",
    "        features['time_signature'].append(feature['time_signature'])\n",
    "\n",
    "    return features"
   ]
  },
  {
   "cell_type": "code",
   "execution_count": 29,
   "metadata": {},
   "outputs": [],
   "source": [
    "def get_playlist_features(playlist_df):\n",
    "    \"\"\"\n",
    "    Get a dataframe with the features of the 100 firsts tracks of the given playlist dataframe.\n",
    "    ****\n",
    "    returns: dataframe of the playlist's tracks' features.\n",
    "    \"\"\"\n",
    "\n",
    "    features = {'id': [], 'danceability': [], 'energy': [], 'key': [], 'loudness': [], 'mode': [], 'speechiness': [], 'acousticness': [], 'instrumentalness': [], 'liveness': [], 'valence': [], 'tempo': [], 'duration_ms': [], 'time_signature': []}\n",
    "\n",
    "    # Iter throught playlists\n",
    "    for _, playlist in playlist_df.T.iteritems():\n",
    "        # Iter throught tracks ids of the playlist\n",
    "        print(playlist['name'])\n",
    "        for track_id in ast.literal_eval(playlist['tracks']):\n",
    "\n",
    "            track_features = get_features(track_id)\n",
    "\n",
    "            # Append tracks features to the features dict \n",
    "            for key in features.keys():\n",
    "                features[key].append(track_features[key])\n",
    "\n",
    "\n",
    "    return pd.DataFrame.from_dict(features).set_index('id')"
   ]
  },
  {
   "cell_type": "code",
   "execution_count": 30,
   "metadata": {},
   "outputs": [
    {
     "name": "stdout",
     "output_type": "stream",
     "text": [
      "Pop/rock kings & queens\n",
      "Autoportrait\n",
      "Arcades & Neons\n",
      "(RPG) Leon Petersen - Don't Piss Me Off\n",
      "Feel good\n",
      "(RPG) Scarface - Heavy Dirty Soul\n",
      "Girl Power\n",
      "Alternative/Psychedelic\n",
      "Musique classique\n",
      "(RPG) Ashton Butler - Punkin' Shakespeare\n",
      "Badass Metal\n",
      "(RPG) Spooky Unicorns - Rock'N Monsters\n",
      "Old Time Rock'N Roll (Kurty's playlist)\n",
      "Skate It !\n",
      "Favoris\n",
      "Horror Circus\n",
      "Ballads & Slows\n",
      "(RPG) Robyn Thorn - Rockin' Girl\n",
      "Top 30\n",
      "(RPG) Kurt Hayward - Punk Ass\n",
      "(RPG) Zak Winterscar - Broken Soldier\n",
      "Accoustic\n",
      "Modern Pop/Rock\n",
      "Classic Rock\n",
      "Ol'Retro Mood (50/60's)\n",
      "Deadshot\n",
      "Red Hood\n",
      "Nightwing\n"
     ]
    }
   ],
   "source": [
    "playlists_df = pd.read_csv(data_path + 'playlists.csv', encoding='utf-8')\n",
    "\n",
    "tracks_df = get_playlist_features(playlists_df)"
   ]
  },
  {
   "cell_type": "code",
   "execution_count": 31,
   "metadata": {},
   "outputs": [],
   "source": [
    "#delete doubles values\n",
    "tracks_df.to_csv(data_path + 'tracks.csv', encoding='utf-8')"
   ]
  },
  {
   "cell_type": "code",
   "execution_count": null,
   "metadata": {},
   "outputs": [
    {
     "name": "stdout",
     "output_type": "stream",
     "text": [
      "[{'danceability': 0.677, 'energy': 0.852, 'key': 5, 'loudness': -10.856, 'mode': 1, 'speechiness': 0.045, 'acousticness': 0.225, 'instrumentalness': 3.95e-05, 'liveness': 0.0595, 'valence': 0.93, 'tempo': 91.691, 'type': 'audio_features', 'id': '3tyTt5pEWblt96j1HsXiV5', 'uri': 'spotify:track:3tyTt5pEWblt96j1HsXiV5', 'track_href': 'https://api.spotify.com/v1/tracks/3tyTt5pEWblt96j1HsXiV5', 'analysis_url': 'https://api.spotify.com/v1/audio-analysis/3tyTt5pEWblt96j1HsXiV5', 'duration_ms': 390862, 'time_signature': 4}]\n"
     ]
    }
   ],
   "source": [
    "# print(sp.audio_features('3tyTt5pEWblt96j1HsXiV5'))"
   ]
  },
  {
   "cell_type": "code",
   "execution_count": null,
   "metadata": {},
   "outputs": [
    {
     "name": "stdout",
     "output_type": "stream",
     "text": [
      "Found playlists :  28\n"
     ]
    }
   ],
   "source": [
    "# playlists_df = set_tracks_to_playlists()\n",
    "\n",
    "# playlists_df.to_csv(data_path + 'playlists.csv', encoding='utf-8')"
   ]
  },
  {
   "cell_type": "code",
   "execution_count": null,
   "metadata": {},
   "outputs": [],
   "source": []
  }
 ],
 "metadata": {
  "interpreter": {
   "hash": "efb5d114ccdf017e54bd86290e4aedee06b9231bc479d903ccf793f023c18e4f"
  },
  "kernelspec": {
   "display_name": "Python 3.8.12 64-bit ('spotify': conda)",
   "language": "python",
   "name": "python3"
  },
  "language_info": {
   "codemirror_mode": {
    "name": "ipython",
    "version": 3
   },
   "file_extension": ".py",
   "mimetype": "text/x-python",
   "name": "python",
   "nbconvert_exporter": "python",
   "pygments_lexer": "ipython3",
   "version": "3.8.12"
  },
  "orig_nbformat": 4
 },
 "nbformat": 4,
 "nbformat_minor": 2
}
