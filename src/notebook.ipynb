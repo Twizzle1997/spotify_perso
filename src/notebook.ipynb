{
 "cells": [
  {
   "cell_type": "code",
   "execution_count": 1,
   "metadata": {},
   "outputs": [],
   "source": [
    "import spotipy\n",
    "import credentials as cr\n",
    "import pandas as pd\n",
    "from spotipy.oauth2 import SpotifyClientCredentials\n",
    "\n",
    "%load_ext autoreload\n",
    "%autoreload 2"
   ]
  },
  {
   "cell_type": "markdown",
   "metadata": {},
   "source": [
    "## Application parameters"
   ]
  },
  {
   "cell_type": "code",
   "execution_count": 2,
   "metadata": {},
   "outputs": [],
   "source": [
    "# redirect_uri = 'http://localhost/'\n",
    "client_id = cr.CLIENT_ID\n",
    "client_secret = cr.CLIENT_SECRET\n",
    "auth = cr.TOKEN\n",
    "data_path = cr.DATA_PATH\n",
    "\n",
    "client_credentials_manager = SpotifyClientCredentials(client_id=client_id, client_secret=client_secret)\n",
    "\n",
    "sp = spotipy.Spotify(client_credentials_manager=client_credentials_manager, auth=auth)"
   ]
  },
  {
   "cell_type": "code",
   "execution_count": 3,
   "metadata": {},
   "outputs": [],
   "source": [
    "# def get_features(track_id):\n",
    "\n",
    "#     return sp.audio_features(track_id)"
   ]
  },
  {
   "cell_type": "code",
   "execution_count": 4,
   "metadata": {},
   "outputs": [],
   "source": [
    "def get_user_playlists():\n",
    "    \"\"\"Get the current user's spotify playlists with a limit at 50.\n",
    "    returns: pandas.DataFrame playlists\"\"\"\n",
    "\n",
    "    # Get json playlists using spotipy api\n",
    "    playlistsJson = sp.current_user_playlists(limit=50, offset=0)\n",
    "\n",
    "    playlists = {'id': [], 'name': [], 'total_tracks': [], 'owner_id': [], 'href': []}\n",
    "    \n",
    "    for i, playlist in enumerate(playlistsJson['items']):\n",
    "        playlists['id'].append(playlist['id'])\n",
    "        playlists['name'].append(playlist['name'])\n",
    "        playlists['total_tracks'].append(playlist['tracks']['total'])\n",
    "        playlists['owner_id'].append(playlist['owner']['id'])\n",
    "        playlists['href'].append(playlist['href'])\n",
    "\n",
    "    print('Found playlists : ', i+1)\n",
    "\n",
    "    return pd.DataFrame.from_dict(playlists).set_index('id')"
   ]
  },
  {
   "cell_type": "code",
   "execution_count": 5,
   "metadata": {},
   "outputs": [
    {
     "name": "stdout",
     "output_type": "stream",
     "text": [
      "Found playlists :  28\n"
     ]
    }
   ],
   "source": [
    "# Récupération des playlists\n",
    "playlists_df = get_user_playlists()\n",
    "\n",
    "playlists_df.head()\n",
    "\n",
    "playlists_df.to_csv(data_path + 'playlists.csv', encoding='utf-8')"
   ]
  },
  {
   "cell_type": "code",
   "execution_count": 6,
   "metadata": {},
   "outputs": [],
   "source": [
    "# Récupération des chansons d'une playlist\n",
    "\n",
    "#en liste\n",
    "#en dataframe\n",
    "#nettoyage\n",
    "#en csv"
   ]
  },
  {
   "cell_type": "code",
   "execution_count": 7,
   "metadata": {},
   "outputs": [],
   "source": [
    "# méthod qui va appliquer la métode de sélection des chansons d'une playlist, appliquée à toutes les playlists d'un user"
   ]
  }
 ],
 "metadata": {
  "interpreter": {
   "hash": "efb5d114ccdf017e54bd86290e4aedee06b9231bc479d903ccf793f023c18e4f"
  },
  "kernelspec": {
   "display_name": "Python 3.8.12 64-bit ('spotify': conda)",
   "language": "python",
   "name": "python3"
  },
  "language_info": {
   "codemirror_mode": {
    "name": "ipython",
    "version": 3
   },
   "file_extension": ".py",
   "mimetype": "text/x-python",
   "name": "python",
   "nbconvert_exporter": "python",
   "pygments_lexer": "ipython3",
   "version": "3.8.12"
  },
  "orig_nbformat": 4
 },
 "nbformat": 4,
 "nbformat_minor": 2
}
