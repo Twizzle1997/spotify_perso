{
 "cells": [
  {
   "cell_type": "code",
   "execution_count": 1,
   "metadata": {},
   "outputs": [],
   "source": [
    "import credentials as cr\n",
    "from spotify_api import Spotify_api\n",
    "\n",
    "%load_ext autoreload\n",
    "%autoreload 2"
   ]
  },
  {
   "cell_type": "markdown",
   "metadata": {},
   "source": [
    "## Application parameters"
   ]
  },
  {
   "cell_type": "code",
   "execution_count": 2,
   "metadata": {},
   "outputs": [],
   "source": [
    "# redirect_uri = 'http://localhost/'\n",
    "data_path = cr.DATA_PATH\n",
    "\n",
    "sp = Spotify_api()"
   ]
  },
  {
   "cell_type": "markdown",
   "metadata": {},
   "source": [
    "## Get datas using Spotify API  \n",
    "I get my personnal spotify datas using spotify api and spotify_api.py class. The Pandas dataframes created are converted into csv files which will be used to create the sqlite database."
   ]
  },
  {
   "cell_type": "code",
   "execution_count": 14,
   "metadata": {},
   "outputs": [],
   "source": [
    "playlists_df = sp.get_playlists_with_tracks()\n",
    "features_df = sp.get_playlist_features(playlists_df)\n",
    "\n",
    "features_df.drop_duplicates()\n",
    "\n",
    "tracks_df = sp.get_tracks(features_df)\n",
    "\n",
    "playlists_df.to_csv(data_path + 'playlists.csv', encoding='utf-8')\n",
    "features_df.to_csv(data_path + 'features.csv', encoding='utf-8')\n",
    "tracks_df.to_csv(data_path + 'tracks.csv', encoding='utf-8')"
   ]
  },
  {
   "cell_type": "markdown",
   "metadata": {},
   "source": [
    "## DataBase connect and creation"
   ]
  }
 ],
 "metadata": {
  "interpreter": {
   "hash": "efb5d114ccdf017e54bd86290e4aedee06b9231bc479d903ccf793f023c18e4f"
  },
  "kernelspec": {
   "display_name": "Python 3.8.12 64-bit ('spotify': conda)",
   "language": "python",
   "name": "python3"
  },
  "language_info": {
   "codemirror_mode": {
    "name": "ipython",
    "version": 3
   },
   "file_extension": ".py",
   "mimetype": "text/x-python",
   "name": "python",
   "nbconvert_exporter": "python",
   "pygments_lexer": "ipython3",
   "version": "3.8.12"
  },
  "orig_nbformat": 4
 },
 "nbformat": 4,
 "nbformat_minor": 2
}
