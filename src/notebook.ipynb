{
 "cells": [
  {
   "cell_type": "code",
   "execution_count": 15,
   "metadata": {},
   "outputs": [
    {
     "name": "stdout",
     "output_type": "stream",
     "text": [
      "The autoreload extension is already loaded. To reload it, use:\n",
      "  %reload_ext autoreload\n"
     ]
    }
   ],
   "source": [
    "import credentials as cr\n",
    "import SQL_requests as rq\n",
    "from spotify_api import Spotify_api\n",
    "from db_connect import Db_connect\n",
    "\n",
    "%load_ext autoreload\n",
    "%autoreload 2"
   ]
  },
  {
   "cell_type": "markdown",
   "metadata": {},
   "source": [
    "## Application parameters"
   ]
  },
  {
   "cell_type": "code",
   "execution_count": 16,
   "metadata": {},
   "outputs": [],
   "source": [
    "# redirect_uri = 'http://localhost/'\n",
    "data_path = cr.DATA_PATH\n",
    "\n",
    "sp = Spotify_api()\n",
    "db = Db_connect()"
   ]
  },
  {
   "cell_type": "markdown",
   "metadata": {},
   "source": [
    "## Get datas using Spotify API  \n",
    "I get my personnal spotify datas using spotify api and spotify_api.py class. The Pandas dataframes created are converted into csv files which will be used to create the sqlite database."
   ]
  },
  {
   "cell_type": "code",
   "execution_count": 17,
   "metadata": {},
   "outputs": [
    {
     "name": "stdout",
     "output_type": "stream",
     "text": [
      "Found playlists :  28\n",
      "Pop/rock kings & queens\n",
      "Autoportrait\n",
      "Arcades & Neons\n",
      "(RPG) Leon Petersen - Don't Piss Me Off\n",
      "Feel good\n",
      "(RPG) Scarface - Heavy Dirty Soul\n",
      "Girl Power\n",
      "Alternative/Psychedelic\n",
      "Musique classique\n",
      "(RPG) Ashton Butler - Punkin' Shakespeare\n",
      "Badass Metal\n",
      "(RPG) Spooky Unicorns - Rock'N Monsters\n",
      "Old Time Rock'N Roll (Kurty's playlist)\n",
      "Skate It !\n",
      "Favoris\n",
      "Horror Circus\n",
      "Ballads & Slows\n",
      "(RPG) Robyn Thorn - Rockin' Girl\n",
      "Top 30\n",
      "(RPG) Kurt Hayward - Punk Ass\n",
      "(RPG) Zak Winterscar - Broken Soldier\n",
      "Accoustic\n",
      "Modern Pop/Rock\n",
      "Classic Rock\n",
      "Ol'Retro Mood (50/60's)\n",
      "Deadshot\n",
      "Red Hood\n",
      "Nightwing\n"
     ]
    }
   ],
   "source": [
    "playlists_df = sp.get_playlists_with_tracks()\n",
    "\n",
    "features_df = sp.get_playlist_features(playlists_df)\n",
    "features_df.drop_duplicates(inplace=True)\n",
    "\n",
    "tracks_df = sp.get_tracks(features_df)\n",
    "\n",
    "playlists_df.to_csv(data_path + 'playlists.csv', encoding='utf-8')\n",
    "features_df.to_csv(data_path + 'features.csv', encoding='utf-8')\n",
    "tracks_df.to_csv(data_path + 'tracks.csv', encoding='utf-8')"
   ]
  },
  {
   "cell_type": "markdown",
   "metadata": {},
   "source": [
    "## DataBase connect and creation"
   ]
  },
  {
   "cell_type": "code",
   "execution_count": 21,
   "metadata": {},
   "outputs": [],
   "source": [
    "db.init_connection()\n",
    "db.create_tables([rq.CREATE_PLAYLIST, rq.CREATE_TRACK, rq.CREATE_TRACK_FEATURES])\n",
    "db.insert_data(rq.INSERT_PLAYLISTS, data_path + 'playlists.csv')\n",
    "db.insert_data(rq.INSERT_TRACKS_FEATURES, data_path + 'features.csv')\n",
    "db.insert_data(rq.INSERT_TRACKS, data_path + 'tracks.csv')\n",
    "db.close_connection()"
   ]
  }
 ],
 "metadata": {
  "interpreter": {
   "hash": "efb5d114ccdf017e54bd86290e4aedee06b9231bc479d903ccf793f023c18e4f"
  },
  "kernelspec": {
   "display_name": "Python 3.8.12 64-bit ('spotify': conda)",
   "language": "python",
   "name": "python3"
  },
  "language_info": {
   "codemirror_mode": {
    "name": "ipython",
    "version": 3
   },
   "file_extension": ".py",
   "mimetype": "text/x-python",
   "name": "python",
   "nbconvert_exporter": "python",
   "pygments_lexer": "ipython3",
   "version": "3.8.12"
  },
  "orig_nbformat": 4
 },
 "nbformat": 4,
 "nbformat_minor": 2
}
