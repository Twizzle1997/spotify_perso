{
 "cells": [
  {
   "cell_type": "code",
   "execution_count": 13,
   "metadata": {},
   "outputs": [
    {
     "name": "stdout",
     "output_type": "stream",
     "text": [
      "The autoreload extension is already loaded. To reload it, use:\n",
      "  %reload_ext autoreload\n"
     ]
    }
   ],
   "source": [
    "import credentials as cr\n",
    "import SQL_requests as rq\n",
    "import pandas as pd\n",
    "import numpy as np\n",
    "import matplotlib.pyplot as plt\n",
    "from sklearn.model_selection import train_test_split\n",
    "from sklearn.neighbors import KNeighborsClassifier\n",
    "from sklearn import metrics\n",
    "import mlflow\n",
    "from db_connect import Db_connect\n",
    "from recommendation_system import Recommendation\n",
    "\n",
    "%load_ext autoreload\n",
    "%autoreload 2"
   ]
  },
  {
   "cell_type": "code",
   "execution_count": 14,
   "metadata": {},
   "outputs": [],
   "source": [
    "data_path = cr.DATA_PATH\n",
    "\n",
    "db = Db_connect()\n",
    "rc = Recommendation()\n",
    "\n",
    "mlflow.sklearn.autolog()"
   ]
  },
  {
   "cell_type": "code",
   "execution_count": 15,
   "metadata": {},
   "outputs": [],
   "source": [
    "db.init_connection()\n",
    "top_30_titles = pd.read_sql_query(rq.SELECT_PLAYLIST_TITLES + \"'6AsIwsN6mH7dQSChLsqSlY'\", db.connector).set_index('id')\n",
    "track_titles = pd.read_sql_query(rq.SELECT_TRACKS_TITLES, db.connector).set_index('id')\n",
    "track_features = pd.read_sql_query(rq.SELECT_TRACKS_FEATURES, db.connector).set_index('id')\n",
    "db.close_connection()"
   ]
  },
  {
   "cell_type": "markdown",
   "metadata": {},
   "source": [
    "## Process data & data split"
   ]
  },
  {
   "cell_type": "code",
   "execution_count": 1,
   "metadata": {},
   "outputs": [
    {
     "ename": "NameError",
     "evalue": "name 'rc' is not defined",
     "output_type": "error",
     "traceback": [
      "\u001b[1;31m---------------------------------------------------------------------------\u001b[0m",
      "\u001b[1;31mNameError\u001b[0m                                 Traceback (most recent call last)",
      "\u001b[1;32m~\\AppData\\Local\\Temp/ipykernel_7184/2430821322.py\u001b[0m in \u001b[0;36m<module>\u001b[1;34m\u001b[0m\n\u001b[1;32m----> 1\u001b[1;33m \u001b[0mtrack_features_processed\u001b[0m \u001b[1;33m=\u001b[0m \u001b[0mrc\u001b[0m\u001b[1;33m.\u001b[0m\u001b[0mprocess_data\u001b[0m\u001b[1;33m(\u001b[0m\u001b[0mtrack_features\u001b[0m\u001b[1;33m)\u001b[0m\u001b[1;33m\u001b[0m\u001b[1;33m\u001b[0m\u001b[0m\n\u001b[0m\u001b[0;32m      2\u001b[0m \u001b[0mplaylist\u001b[0m\u001b[1;33m,\u001b[0m \u001b[0mnonplaylist\u001b[0m \u001b[1;33m=\u001b[0m \u001b[0mrc\u001b[0m\u001b[1;33m.\u001b[0m\u001b[0mgenerate_playlist_nonplaylist\u001b[0m\u001b[1;33m(\u001b[0m\u001b[0mtrack_features_processed\u001b[0m\u001b[1;33m,\u001b[0m \u001b[0mtop_30_titles\u001b[0m\u001b[1;33m)\u001b[0m\u001b[1;33m\u001b[0m\u001b[1;33m\u001b[0m\u001b[0m\n\u001b[0;32m      3\u001b[0m \u001b[1;33m\u001b[0m\u001b[0m\n\u001b[0;32m      4\u001b[0m \u001b[0mtrain_test_dataset\u001b[0m \u001b[1;33m=\u001b[0m \u001b[0mtrack_features_processed\u001b[0m\u001b[1;33m.\u001b[0m\u001b[0mcopy\u001b[0m\u001b[1;33m(\u001b[0m\u001b[1;33m)\u001b[0m\u001b[1;33m\u001b[0m\u001b[1;33m\u001b[0m\u001b[0m\n\u001b[0;32m      5\u001b[0m \u001b[0mtrain_test_dataset\u001b[0m\u001b[1;33m[\u001b[0m\u001b[1;34m'playlist'\u001b[0m\u001b[1;33m]\u001b[0m \u001b[1;33m=\u001b[0m \u001b[0mtrain_test_dataset\u001b[0m\u001b[1;33m.\u001b[0m\u001b[0mapply\u001b[0m\u001b[1;33m(\u001b[0m\u001b[1;32mlambda\u001b[0m \u001b[0mx\u001b[0m\u001b[1;33m:\u001b[0m \u001b[0mint\u001b[0m\u001b[1;33m(\u001b[0m\u001b[0mx\u001b[0m\u001b[1;33m.\u001b[0m\u001b[0mname\u001b[0m \u001b[1;32min\u001b[0m \u001b[0mtop_30_titles\u001b[0m\u001b[1;33m.\u001b[0m\u001b[0mindex\u001b[0m\u001b[1;33m)\u001b[0m\u001b[1;33m,\u001b[0m \u001b[0maxis\u001b[0m\u001b[1;33m=\u001b[0m\u001b[1;36m1\u001b[0m\u001b[1;33m)\u001b[0m\u001b[1;33m\u001b[0m\u001b[1;33m\u001b[0m\u001b[0m\n",
      "\u001b[1;31mNameError\u001b[0m: name 'rc' is not defined"
     ]
    }
   ],
   "source": [
    "track_features_processed = rc.process_data(track_features)\n",
    "playlist, nonplaylist = rc.generate_playlist_nonplaylist(track_features_processed, top_30_titles)\n",
    "\n",
    "train_test_dataset = track_features_processed.copy()\n",
    "train_test_dataset['playlist'] = train_test_dataset.apply(lambda x: int(x.name in top_30_titles.index), axis=1)\n",
    "\n",
    "classifier_data = train_test_dataset.copy()\n",
    "classifier_data = classifier_data.sort_values(['playlist'], ascending=False).head(100)\n",
    "\n",
    "classifier_target = classifier_data['playlist']\n",
    "\n",
    "classifier_data = classifier_data.drop('loudness',axis = 1)\n",
    "classifier_data = classifier_data.drop('playlist',axis = 1)\n",
    "\n",
    "X_train, X_test, y_train, y_test = train_test_split(classifier_data, classifier_target, test_size=0.3, random_state=42)"
   ]
  },
  {
   "cell_type": "code",
   "execution_count": 12,
   "metadata": {},
   "outputs": [],
   "source": [
    "# matrix = train_test_dataset[['danceability', 'acousticness', 'loudness', 'energy', 'speechiness', 'instrumentalness', 'valence', 'liveness', 'tempo', 'playlist']].corr()\n",
    "# sn.heatmap(matrix, annot=True)\n",
    "# plt.show()"
   ]
  },
  {
   "cell_type": "markdown",
   "metadata": {},
   "source": [
    "## Starting point"
   ]
  },
  {
   "cell_type": "code",
   "execution_count": null,
   "metadata": {},
   "outputs": [],
   "source": [
    "knn = KNeighborsClassifier(n_neighbors=1)\n",
    "\n",
    "knn.fit(X_train, y_train)\n",
    "\n",
    "y_pred = knn.predict(X_test)\n",
    "\n",
    "print(\"Accuracy:\", metrics.accuracy_score(y_test, y_pred))"
   ]
  },
  {
   "cell_type": "markdown",
   "metadata": {},
   "source": [
    "## Finding the right K"
   ]
  },
  {
   "cell_type": "code",
   "execution_count": null,
   "metadata": {},
   "outputs": [],
   "source": [
    "error_rate_knn = []\n",
    "accuracy_knn = []\n",
    "\n",
    "for i in range(1,30):\n",
    "\n",
    "    # kNN\n",
    "    knn = KNeighborsClassifier(n_neighbors=i)\n",
    "    knn.fit(X_train,y_train)\n",
    "    y_pred = knn.predict(X_test)\n",
    "\n",
    "    error_rate_knn.append(np.mean(y_pred != y_test))\n",
    "    accuracy_knn.append(metrics.accuracy_score(y_test, y_pred))"
   ]
  },
  {
   "cell_type": "code",
   "execution_count": null,
   "metadata": {},
   "outputs": [],
   "source": [
    "fig, (ax1, ax2) = plt.subplots(2, 1, figsize=(10,6))\n",
    "fig.suptitle('Model evolution depending on k')\n",
    "\n",
    "ax1.plot(range(1,30),error_rate_knn,color='red')\n",
    "ax1.set_title('Error Rate vs. K Value')\n",
    "ax1.set_xlabel('K')\n",
    "ax1.set_ylabel('Error Rate')\n",
    "\n",
    "ax2.plot(range(1,30),accuracy_knn,color='green')\n",
    "ax2.set_title('Accuracy vs. K Value')\n",
    "ax2.set_xlabel('K')\n",
    "ax2.set_ylabel('Accuracy')\n",
    "\n",
    "plt.show()"
   ]
  },
  {
   "cell_type": "markdown",
   "metadata": {},
   "source": [
    "## Write the algo"
   ]
  },
  {
   "cell_type": "code",
   "execution_count": null,
   "metadata": {},
   "outputs": [],
   "source": [
    "knn = KNeighborsClassifier(n_neighbors=4, algorithm='auto', weights='distance', metric='minkowski')\n",
    "\n",
    "knn.fit(X_train, y_train)\n",
    "\n",
    "y_pred = knn.predict(X_test)\n",
    "\n",
    "print(\"Accuracy:\", metrics.accuracy_score(y_test, y_pred))"
   ]
  },
  {
   "cell_type": "markdown",
   "metadata": {},
   "source": [
    "## Testing multi metrics"
   ]
  },
  {
   "cell_type": "code",
   "execution_count": null,
   "metadata": {},
   "outputs": [],
   "source": [
    "# todo"
   ]
  },
  {
   "cell_type": "markdown",
   "metadata": {},
   "source": [
    "## Testing weights"
   ]
  },
  {
   "cell_type": "code",
   "execution_count": null,
   "metadata": {},
   "outputs": [],
   "source": [
    "# todo"
   ]
  },
  {
   "cell_type": "markdown",
   "metadata": {},
   "source": [
    "## Random PCA / Grid Search"
   ]
  },
  {
   "cell_type": "markdown",
   "metadata": {},
   "source": [
    "## Ajout année"
   ]
  },
  {
   "cell_type": "markdown",
   "metadata": {},
   "source": [
    "## Recommandation finale"
   ]
  },
  {
   "cell_type": "code",
   "execution_count": null,
   "metadata": {},
   "outputs": [],
   "source": [
    "recommendation = nonplaylist.copy()\n",
    "recommendation = recommendation.drop('loudness',axis = 1)\n",
    "\n",
    "recommendation['predict'] = recommendation.apply(lambda x: knn.predict([x])[0], axis=1)\n",
    "recommendation['proba'] = recommendation.loc[:, recommendation.columns != 'predict'].apply(lambda x: knn.predict_proba([x])[0].max(), axis=1)\n",
    "\n",
    "recommendation = recommendation[recommendation['predict']==1]\n",
    "recommendation = recommendation.sort_values('proba', ascending=False).head(10)\n",
    "\n",
    "recommendation = recommendation.merge(track_titles, left_index=True, right_index=True)\n",
    "rc.visualize_cover(recommendation)\n",
    "display(recommendation)"
   ]
  }
 ],
 "metadata": {
  "interpreter": {
   "hash": "7715e9c299a769a1f76638099234e03ca019c93513a944dc3a03379cb94e3982"
  },
  "kernelspec": {
   "display_name": "Python 3.8.12 64-bit ('spotify2': conda)",
   "language": "python",
   "name": "python3"
  },
  "language_info": {
   "codemirror_mode": {
    "name": "ipython",
    "version": 3
   },
   "file_extension": ".py",
   "mimetype": "text/x-python",
   "name": "python",
   "nbconvert_exporter": "python",
   "pygments_lexer": "ipython3",
   "version": "3.8.12"
  },
  "orig_nbformat": 4
 },
 "nbformat": 4,
 "nbformat_minor": 2
}
